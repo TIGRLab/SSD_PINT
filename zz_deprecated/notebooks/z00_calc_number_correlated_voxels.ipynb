{
 "cells": [
  {
   "cell_type": "code",
   "execution_count": 28,
   "metadata": {
    "collapsed": true
   },
   "outputs": [],
   "source": [
    "import ciftify.niio\n",
    "import os\n",
    "import seaborn\n",
    "import numpy as np\n",
    "import pandas as pd"
   ]
  },
  {
   "cell_type": "code",
   "execution_count": 61,
   "metadata": {
    "collapsed": true
   },
   "outputs": [],
   "source": [
    "outbase = '../data/ciftify_fmriprep/'\n",
    "qapass_pheno_file = '../phenotypic/20181118_pheno_qapass.csv'"
   ]
  },
  {
   "cell_type": "code",
   "execution_count": 31,
   "metadata": {},
   "outputs": [
    {
     "data": {
      "text/plain": [
       "array([ 10267.,   9574.,   9005.,   8432.,   7908.,   7405.,   6954.,\n",
       "         6542.,   6140.,   5821.,   5504.,   5221.,   4958.,   4679.,\n",
       "         4460.,   4243.,   4037.,   3807.,   3576.,   3351.,   3132.])"
      ]
     },
     "execution_count": 31,
     "metadata": {},
     "output_type": "execute_result"
    }
   ],
   "source": [
    "def count_num_above_threshold(input_array, threshold):\n",
    "    '''count the number of input array values above a threshold'''\n",
    "    result = len(np.where( input_array > threshold)[0])\n",
    "    return result\n",
    "\n",
    "#example_fcmap = '/scratch/edickie/saba_PINT/ciftify_fmriprep/ds000030_R1.0.5/out/ciftify_PINT/sub-10159/sub-10159_task-rest_bold_atlas-pvertexNET_roi-2_fcmap.dscalar.nii'\n",
    "#fc_map_data = ciftify.niio.load_cifti(example_fcmap)\n",
    "# thresholds = np.arange(0.3, 0.72, 0.02)\n",
    "# test_out = np.zeros(len(thresholds))\n",
    "# for i in range(len(thresholds)):\n",
    "#     test_out[i] = count_num_above_threshold(fc_map_data, thresholds[i])\n",
    "# test_out"
   ]
  },
  {
   "cell_type": "code",
   "execution_count": 137,
   "metadata": {},
   "outputs": [],
   "source": [
    "# read in the subject list\n",
    "subject_list = pandas.read_csv(qapass_pheno_file)\n",
    "subdf = subject_list[['dataset','subject',\"session\", \"filename\"]]\n",
    "subdf6 = pd.concat([subdf]*6)"
   ]
  },
  {
   "cell_type": "code",
   "execution_count": 142,
   "metadata": {},
   "outputs": [],
   "source": [
    "## create a thresholds vector and output template\n",
    "thresholds = np.arange(0.3, 0.72, 0.02)\n",
    "threscols = []\n",
    "for thres in thresholds:\n",
    "    threscols.append('gt_{0:.2f}'.format(thres))\n",
    "thresdf = pd.DataFrame(columns = threscols, dtype=int, index=range(len(subdf6)))\n",
    "\n",
    "## create a NETWORK column\n",
    "net_df = pd.DataFrame({\"NETWORK\":[2,3,4,5,6,7]*len(subdf)})\n",
    "\n",
    "## put all of these together\n",
    "df = pd.concat([subdf6.sort_values('subject').reset_index(), net_df.reset_index(), thresdf], axis = 1)"
   ]
  },
  {
   "cell_type": "code",
   "execution_count": 85,
   "metadata": {},
   "outputs": [],
   "source": [
    "def get_dscalar_filename(dataset, subject, session, summary_filename, network, outbase = outbase):\n",
    "    '''create the filename of the dscalar file with the seed connectivity values \n",
    "    using the other info in the dataframe'''\n",
    "    fc_filename = summary_filename.replace('_desc-clean_bold_summary.csv',\n",
    "                                          '_atlas-pvertexNET_roi-{}_fcmap.dscalar.nii'.format(network))\n",
    "    if session:\n",
    "        fc_path = os.path.join(outbase, dataset, \"out\", \"ciftify_PINT\", subject, session, fc_filename)\n",
    "    else:\n",
    "        fc_path = os.path.join(outbase, dataset, \"out\", \"ciftify_PINT\", subject, fc_filename)\n",
    "    return fc_path\n",
    "    \n"
   ]
  },
  {
   "cell_type": "code",
   "execution_count": 145,
   "metadata": {},
   "outputs": [
    {
     "name": "stderr",
     "output_type": "stream",
     "text": [
      "Cannot read ../data/ciftify_fmriprep/DTI3T/out/ciftify_PINT/sub-CMHH170/ses-01/sub-CMHH170_ses-01_task-rest_acq-CMH_run-01_bold_atlas-pvertexNET_roi-2_fcmap.dscalar.nii\n",
      "Cannot read ../data/ciftify_fmriprep/DTI3T/out/ciftify_PINT/sub-CMHH170/ses-01/sub-CMHH170_ses-01_task-rest_acq-CMH_run-01_bold_atlas-pvertexNET_roi-3_fcmap.dscalar.nii\n",
      "Cannot read ../data/ciftify_fmriprep/DTI3T/out/ciftify_PINT/sub-CMHH170/ses-01/sub-CMHH170_ses-01_task-rest_acq-CMH_run-01_bold_atlas-pvertexNET_roi-4_fcmap.dscalar.nii\n",
      "Cannot read ../data/ciftify_fmriprep/DTI3T/out/ciftify_PINT/sub-CMHH170/ses-01/sub-CMHH170_ses-01_task-rest_acq-CMH_run-01_bold_atlas-pvertexNET_roi-5_fcmap.dscalar.nii\n",
      "Cannot read ../data/ciftify_fmriprep/DTI3T/out/ciftify_PINT/sub-CMHH170/ses-01/sub-CMHH170_ses-01_task-rest_acq-CMH_run-01_bold_atlas-pvertexNET_roi-6_fcmap.dscalar.nii\n",
      "Cannot read ../data/ciftify_fmriprep/DTI3T/out/ciftify_PINT/sub-CMHH170/ses-01/sub-CMHH170_ses-01_task-rest_acq-CMH_run-01_bold_atlas-pvertexNET_roi-7_fcmap.dscalar.nii\n"
     ]
    },
    {
     "name": "stdout",
     "output_type": "stream",
     "text": [
      "../data/ciftify_fmriprep/DTI3T/out/ciftify_PINT/sub-CMHH170/ses-01/sub-CMHH170_ses-01_task-rest_acq-CMH_run-01_bold_atlas-pvertexNET_roi-2_fcmap.dscalar.nii failed to load\n",
      "../data/ciftify_fmriprep/DTI3T/out/ciftify_PINT/sub-CMHH170/ses-01/sub-CMHH170_ses-01_task-rest_acq-CMH_run-01_bold_atlas-pvertexNET_roi-3_fcmap.dscalar.nii failed to load\n",
      "../data/ciftify_fmriprep/DTI3T/out/ciftify_PINT/sub-CMHH170/ses-01/sub-CMHH170_ses-01_task-rest_acq-CMH_run-01_bold_atlas-pvertexNET_roi-4_fcmap.dscalar.nii failed to load\n",
      "../data/ciftify_fmriprep/DTI3T/out/ciftify_PINT/sub-CMHH170/ses-01/sub-CMHH170_ses-01_task-rest_acq-CMH_run-01_bold_atlas-pvertexNET_roi-5_fcmap.dscalar.nii failed to load\n",
      "../data/ciftify_fmriprep/DTI3T/out/ciftify_PINT/sub-CMHH170/ses-01/sub-CMHH170_ses-01_task-rest_acq-CMH_run-01_bold_atlas-pvertexNET_roi-6_fcmap.dscalar.nii failed to load\n",
      "../data/ciftify_fmriprep/DTI3T/out/ciftify_PINT/sub-CMHH170/ses-01/sub-CMHH170_ses-01_task-rest_acq-CMH_run-01_bold_atlas-pvertexNET_roi-7_fcmap.dscalar.nii failed to load\n"
     ]
    },
    {
     "name": "stderr",
     "output_type": "stream",
     "text": [
      "cmd: wb_command -cifti-separate ../data/ciftify_fmriprep/RTMSWM/out/ciftify_PINT/sub-CMHWM010/ses-01/sub-CMHWM010_ses-01_task-rest_acq-CMH_run-01_bold_atlas-pvertexNET_roi-3_fcmap.dscalar.nii COLUMN -metric CORTEX_LEFT /tmp/tmp2ydoqb5z/Ldata.func.gii -metric CORTEX_RIGHT /tmp/tmp2ydoqb5z/Rdata.func.gii -volume-all /tmp/tmp2ydoqb5z/vol.nii.gz \n",
      " Failed with returncode 255\n",
      "\n",
      "While running:\n",
      "/mnt/tigrlab/quarantine/connectome-workbench/1.3.2/build/bin_linux64/../exe_linux64/wb_command -cifti-separate ../data/ciftify_fmriprep/RTMSWM/out/ciftify_PINT/sub-CMHWM010/ses-01/sub-CMHWM010_ses-01_task-rest_acq-CMH_run-01_bold_atlas-pvertexNET_roi-3_fcmap.dscalar.nii COLUMN -metric CORTEX_LEFT /tmp/tmp2ydoqb5z/Ldata.func.gii -metric CORTEX_RIGHT /tmp/tmp2ydoqb5z/Rdata.func.gii -volume-all /tmp/tmp2ydoqb5z/vol.nii.gz\n",
      "\n",
      "ERROR: nifti file is truncated: /mnt/tigrlab/projects/edickie/code/SZ_PINT/data/ciftify_fmriprep/RTMSWM/out/ciftify_PINT/sub-CMHWM010/ses-01/sub-CMHWM010_ses-01_task-rest_acq-CMH_run-01_bold_atlas-pvertexNET_roi-3_fcmap.dscalar.nii\n",
      "\n",
      "\n",
      "Cannot read /tmp/tmp2ydoqb5z/Ldata.func.gii\n"
     ]
    },
    {
     "name": "stdout",
     "output_type": "stream",
     "text": [
      "../data/ciftify_fmriprep/RTMSWM/out/ciftify_PINT/sub-CMHWM010/ses-01/sub-CMHWM010_ses-01_task-rest_acq-CMH_run-01_bold_atlas-pvertexNET_roi-3_fcmap.dscalar.nii failed to load\n"
     ]
    },
    {
     "name": "stderr",
     "output_type": "stream",
     "text": [
      "Cannot read ../data/ciftify_fmriprep/RTMSWM/out/ciftify_PINT/sub-CMHWM040/ses-01/sub-CMHWM040_ses-01_task-rest_acq-CMH_run-01_bold_atlas-pvertexNET_roi-2_fcmap.dscalar.nii\n",
      "Cannot read ../data/ciftify_fmriprep/RTMSWM/out/ciftify_PINT/sub-CMHWM040/ses-01/sub-CMHWM040_ses-01_task-rest_acq-CMH_run-01_bold_atlas-pvertexNET_roi-3_fcmap.dscalar.nii\n",
      "Cannot read ../data/ciftify_fmriprep/RTMSWM/out/ciftify_PINT/sub-CMHWM040/ses-01/sub-CMHWM040_ses-01_task-rest_acq-CMH_run-01_bold_atlas-pvertexNET_roi-4_fcmap.dscalar.nii\n",
      "Cannot read ../data/ciftify_fmriprep/RTMSWM/out/ciftify_PINT/sub-CMHWM040/ses-01/sub-CMHWM040_ses-01_task-rest_acq-CMH_run-01_bold_atlas-pvertexNET_roi-5_fcmap.dscalar.nii\n",
      "Cannot read ../data/ciftify_fmriprep/RTMSWM/out/ciftify_PINT/sub-CMHWM040/ses-01/sub-CMHWM040_ses-01_task-rest_acq-CMH_run-01_bold_atlas-pvertexNET_roi-6_fcmap.dscalar.nii\n",
      "Cannot read ../data/ciftify_fmriprep/RTMSWM/out/ciftify_PINT/sub-CMHWM040/ses-01/sub-CMHWM040_ses-01_task-rest_acq-CMH_run-01_bold_atlas-pvertexNET_roi-7_fcmap.dscalar.nii\n"
     ]
    },
    {
     "name": "stdout",
     "output_type": "stream",
     "text": [
      "../data/ciftify_fmriprep/RTMSWM/out/ciftify_PINT/sub-CMHWM040/ses-01/sub-CMHWM040_ses-01_task-rest_acq-CMH_run-01_bold_atlas-pvertexNET_roi-2_fcmap.dscalar.nii failed to load\n",
      "../data/ciftify_fmriprep/RTMSWM/out/ciftify_PINT/sub-CMHWM040/ses-01/sub-CMHWM040_ses-01_task-rest_acq-CMH_run-01_bold_atlas-pvertexNET_roi-3_fcmap.dscalar.nii failed to load\n",
      "../data/ciftify_fmriprep/RTMSWM/out/ciftify_PINT/sub-CMHWM040/ses-01/sub-CMHWM040_ses-01_task-rest_acq-CMH_run-01_bold_atlas-pvertexNET_roi-4_fcmap.dscalar.nii failed to load\n",
      "../data/ciftify_fmriprep/RTMSWM/out/ciftify_PINT/sub-CMHWM040/ses-01/sub-CMHWM040_ses-01_task-rest_acq-CMH_run-01_bold_atlas-pvertexNET_roi-5_fcmap.dscalar.nii failed to load\n",
      "../data/ciftify_fmriprep/RTMSWM/out/ciftify_PINT/sub-CMHWM040/ses-01/sub-CMHWM040_ses-01_task-rest_acq-CMH_run-01_bold_atlas-pvertexNET_roi-6_fcmap.dscalar.nii failed to load\n",
      "../data/ciftify_fmriprep/RTMSWM/out/ciftify_PINT/sub-CMHWM040/ses-01/sub-CMHWM040_ses-01_task-rest_acq-CMH_run-01_bold_atlas-pvertexNET_roi-7_fcmap.dscalar.nii failed to load\n"
     ]
    }
   ],
   "source": [
    "for i in df.index:\n",
    "    session = df.session[i] if type(df.session[i])==str else None\n",
    "    fc_path = get_dscalar_filename(df.dataset[i], df.subject[i], session, df.filename[i], df.NETWORK[i])\n",
    "    try:\n",
    "        fc_map_data = ciftify.niio.load_cifti(fc_path)\n",
    "        for threshold in thresholds:\n",
    "            df.loc[i,'gt_{0:.2f}'.format(threshold)] = count_num_above_threshold(fc_map_data, threshold)\n",
    "    except:\n",
    "        print('{} failed to load'.format(fc_path))"
   ]
  },
  {
   "cell_type": "code",
   "execution_count": 147,
   "metadata": {},
   "outputs": [],
   "source": [
    "df.to_csv('../data/ciftify_fmriprep/qa_passes_seedcor_counts_20181116.csv')"
   ]
  }
 ],
 "metadata": {
  "kernelspec": {
   "display_name": "Python 3",
   "language": "python",
   "name": "python3"
  },
  "language_info": {
   "codemirror_mode": {
    "name": "ipython",
    "version": 3
   },
   "file_extension": ".py",
   "mimetype": "text/x-python",
   "name": "python",
   "nbconvert_exporter": "python",
   "pygments_lexer": "ipython3",
   "version": "3.6.1"
  }
 },
 "nbformat": 4,
 "nbformat_minor": 2
}
